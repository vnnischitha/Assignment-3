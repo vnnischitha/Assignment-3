{
 "cells": [
  {
   "cell_type": "code",
   "execution_count": 1,
   "metadata": {},
   "outputs": [
    {
     "name": "stdout",
     "output_type": "stream",
     "text": [
      "Enter The Age Of The Person:19\n",
      "The Person Is Eligible For Voting\n"
     ]
    }
   ],
   "source": [
    "Age=int(input(\"Enter The Age Of The Person:\"))\n",
    "if Age>=18:\n",
    "    print(\"The Person Is Eligible For Voting\")\n",
    "else:\n",
    "    print(\"The Person Is Minor And Not Eligible To Vote\")"
   ]
  },
  {
   "cell_type": "code",
   "execution_count": 2,
   "metadata": {},
   "outputs": [
    {
     "name": "stdout",
     "output_type": "stream",
     "text": [
      "Enter the number5\n",
      "5 is a odd number\n"
     ]
    }
   ],
   "source": [
    "Num=int(input(\"Enter the number\"))\n",
    "if Num%2==0:\n",
    "    print(Num,\"is a even number\")\n",
    "else:\n",
    "    print(Num,\"is a odd number\")"
   ]
  },
  {
   "cell_type": "code",
   "execution_count": 3,
   "metadata": {},
   "outputs": [
    {
     "name": "stdout",
     "output_type": "stream",
     "text": [
      "Enter The Number=4\n",
      "4 Is Not A Prime Number\n"
     ]
    }
   ],
   "source": [
    "Num=int(input(\"Enter The Number=\"))\n",
    "if Num>1:\n",
    "    for i in range(2,Num):\n",
    "        if(Num%i==0):\n",
    "            print(Num,\"Is Not A Prime Number\")\n",
    "            break\n",
    "    else:\n",
    "        print(Num,\"Is A Prime Number\")\n",
    "else:\n",
    "    print(Num,\"Is Not A Prime Number\")"
   ]
  },
  {
   "cell_type": "code",
   "execution_count": 4,
   "metadata": {},
   "outputs": [
    {
     "name": "stdout",
     "output_type": "stream",
     "text": [
      "Enter The Number: 60\n",
      "60.0 Is A Positive Number\n"
     ]
    }
   ],
   "source": [
    "Num=float(input(\"Enter The Number: \"))\n",
    "if Num>=0:\n",
    "    print(Num,\"Is A Positive Number\")\n",
    "else:\n",
    "    print(Num,\"Is A Negative Number\")"
   ]
  },
  {
   "cell_type": "code",
   "execution_count": 5,
   "metadata": {},
   "outputs": [
    {
     "name": "stdout",
     "output_type": "stream",
     "text": [
      "Enter The Value Of a=2\n",
      "Enter The Value Of b=3\n",
      "Enter The Value Of c=4\n",
      "The Roots Are Imaginary\n"
     ]
    }
   ],
   "source": [
    "import math\n",
    "a=int(input(\"Enter The Value Of a=\"))\n",
    "b=int(input(\"Enter The Value Of b=\"))\n",
    "c=int(input(\"Enter The Value Of c=\"))\n",
    "if(a!=0):\n",
    "    d=b*b-4*a*c\n",
    "    if d==0:\n",
    "        x1,x2=-b/(2*a),-b/(2*a)\n",
    "        print(\"The Roots Are Real x1=\",x1,\" x2=\",x2)\n",
    "    elif d>0:\n",
    "        x1,x2=(-b+math.sqrt(d))/(2*a),(-b -math.sqrt(d))/(2*a)\n",
    "        print(\"The Roots Are Different x1=\",x1,\" x2=\",x2)\n",
    "    else:\n",
    "        print(\"The Roots Are Imaginary\")\n",
    "else:\n",
    "    print(\"Its A Linear Equation\")"
   ]
  },
  {
   "cell_type": "code",
   "execution_count": 6,
   "metadata": {},
   "outputs": [
    {
     "name": "stdout",
     "output_type": "stream",
     "text": [
      "Enter The Number: 32\n",
      "32.0 Is A Positive Number\n"
     ]
    }
   ],
   "source": [
    "Num=float(input(\"Enter The Number: \"))\n",
    "if Num>0:\n",
    "    print(Num,\"Is A Positive Number\")\n",
    "elif Num<0:\n",
    "    print(Num,\"Is A Negative Number\")\n",
    "else:\n",
    "    print(Num,\"Is A Zero\")"
   ]
  },
  {
   "cell_type": "code",
   "execution_count": 7,
   "metadata": {},
   "outputs": [
    {
     "name": "stdout",
     "output_type": "stream",
     "text": [
      "Enter A Number Between 1-5=2\n",
      "Two\n"
     ]
    }
   ],
   "source": [
    "Num=int(input(\"Enter A Number Between 1-5=\"))\n",
    "if (Num<=5 and Num>0):\n",
    "    if Num==1:\n",
    "        print(\"One\")\n",
    "    elif Num==2:\n",
    "        print(\"Two\")\n",
    "    elif Num==3:\n",
    "        print(\"Three\")\n",
    "    elif Num==4:\n",
    "        print(\"four\")\n",
    "    elif Num==5:\n",
    "        print(\"Five\")\n",
    "else:\n",
    "    print(\"Entered Number Is Not In Between 1-5\")"
   ]
  },
  {
   "cell_type": "code",
   "execution_count": 8,
   "metadata": {},
   "outputs": [
    {
     "name": "stdout",
     "output_type": "stream",
     "text": [
      "Enter The Character=b\n",
      "b Is A Consonant\n"
     ]
    }
   ],
   "source": [
    "char=(input(\"Enter The Character=\"))\n",
    "if (char=='a')or(char=='i')or(char=='e')or(char=='u')or(char=='o'):\n",
    "    print(char,\"Is A Vowel\")\n",
    "else:\n",
    "    print(char,\"Is A Consonant\")"
   ]
  },
  {
   "cell_type": "code",
   "execution_count": null,
   "metadata": {},
   "outputs": [],
   "source": []
  }
 ],
 "metadata": {
  "kernelspec": {
   "display_name": "Python 3",
   "language": "python",
   "name": "python3"
  },
  "language_info": {
   "codemirror_mode": {
    "name": "ipython",
    "version": 3
   },
   "file_extension": ".py",
   "mimetype": "text/x-python",
   "name": "python",
   "nbconvert_exporter": "python",
   "pygments_lexer": "ipython3",
   "version": "3.8.3"
  }
 },
 "nbformat": 4,
 "nbformat_minor": 4
}
